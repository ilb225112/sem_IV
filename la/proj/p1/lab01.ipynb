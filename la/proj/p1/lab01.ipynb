{
 "cells": [
  {
   "cell_type": "code",
   "execution_count": 1,
   "id": "37419003-978d-45f2-85c5-2c9c0593d451",
   "metadata": {},
   "outputs": [
    {
     "name": "stdout",
     "output_type": "stream",
     "text": [
      "A:  [[  1   2 -10   4]\n",
      " [  3   4   5  -6]\n",
      " [  3   3  -2   5]]\n",
      "B:  [3 3 4 2]\n"
     ]
    }
   ],
   "source": [
    "# Common to All\n",
    "import numpy as np\n",
    "\n",
    "A = np.array([[1, 2, -10, 4], [3, 4, 5, -6], [3, 3, -2, 5]])\n",
    "B = np.array([3, 3, 4, 2])\n",
    "print(\"A: \", A)\n",
    "print(\"B: \", B)"
   ]
  },
  {
   "cell_type": "code",
   "execution_count": 2,
   "id": "6bee3b6e-3ecf-4e99-a24e-fe46c3b7e127",
   "metadata": {},
   "outputs": [
    {
     "name": "stdout",
     "output_type": "stream",
     "text": [
      "lengthA:  4\n",
      "lengthB:  4\n",
      "A.shape:  (3, 4)\n"
     ]
    }
   ],
   "source": [
    "# Q2. Finding the Largest Dimension\n",
    "def length(matrix):\n",
    "    return max(matrix.shape)\n",
    "\n",
    "lengthA = length(A)\n",
    "lengthB = length(B)\n",
    "\n",
    "print(\"lengthA: \", lengthA)\n",
    "print(\"lengthB: \", lengthB)\n",
    "print(\"A.shape: \", A.shape)  # Gives the order of the matrix"
   ]
  },
  {
   "cell_type": "code",
   "execution_count": 3,
   "id": "0c3b3bf0-3efe-48c8-9d24-cf1ca88cb7af",
   "metadata": {},
   "outputs": [
    {
     "name": "stdout",
     "output_type": "stream",
     "text": [
      "C:  [[  1   2 -10   4]\n",
      " [  3   4   5  -6]\n",
      " [  3   3  -2   5]\n",
      " [  3   3   4   2]]\n"
     ]
    }
   ],
   "source": [
    "# Q3: Add the vector B as the fourth row of the matrix A and save the result as a new matrix C.\n",
    "C = np.vstack((A, B))  # Vertically stacks/combine row-wise\n",
    "print(\"C: \", C)"
   ]
  },
  {
   "cell_type": "code",
   "execution_count": 4,
   "id": "76a42c5b-8349-4d8c-9b36-8f79ed2259a7",
   "metadata": {},
   "outputs": [
    {
     "name": "stdout",
     "output_type": "stream",
     "text": [
      "D:  [[ 5 -6]\n",
      " [-2  5]\n",
      " [ 4  2]]\n"
     ]
    }
   ],
   "source": [
    "# Q4: Create a new matrix D whose entries are located in the rows 2, 3, 4 and columns 3, 4 of the matrix C.\n",
    "D = C[1:4, 2:4]\n",
    "print(\"D: \", D)\n"
   ]
  },
  {
   "cell_type": "code",
   "execution_count": 5,
   "id": "d3cf64b5-1f34-4e9f-bbcb-2e9da0dbc299",
   "metadata": {},
   "outputs": [
    {
     "name": "stdout",
     "output_type": "stream",
     "text": [
      "E:  [[ 5 -2  4]\n",
      " [-6  5  2]]\n"
     ]
    }
   ],
   "source": [
    "# Q5: Create a transpose of the matrix D and save the transposed matrix as the matrix E.\n",
    "E = D.T\n",
    "print(\"E: \", E)"
   ]
  },
  {
   "cell_type": "code",
   "execution_count": 6,
   "id": "8304152e-6851-4ff2-9cc4-1fb1ce58279e",
   "metadata": {},
   "outputs": [
    {
     "name": "stdout",
     "output_type": "stream",
     "text": [
      "m:  2\n",
      "n:  3\n"
     ]
    }
   ],
   "source": [
    "# Q6: Check the size of the matrix E and store the result of this operation as two variables m, n.\n",
    "m, n = E.shape\n",
    "print(\"m: \", m)\n",
    "print(\"n: \", n)"
   ]
  },
  {
   "cell_type": "code",
   "execution_count": 7,
   "id": "73a78d34-99ae-4e77-820d-b257a0994156",
   "metadata": {},
   "outputs": [
    {
     "name": "stdout",
     "output_type": "stream",
     "text": [
      "EqualSpaced:  [0.         0.31415927 0.62831853 0.9424778  1.25663706 1.57079633\n",
      " 1.88495559 2.19911486 2.51327412 2.82743339 3.14159265 3.45575192\n",
      " 3.76991118 4.08407045 4.39822972 4.71238898 5.02654825 5.34070751\n",
      " 5.65486678 5.96902604]\n",
      "EqualSpaced1:  [0.         0.31415927 0.62831853 0.9424778  1.25663706 1.57079633\n",
      " 1.88495559 2.19911486 2.51327412 2.82743339 3.14159265 3.45575192\n",
      " 3.76991118 4.08407045 4.39822972 4.71238898 5.02654825 5.34070751\n",
      " 5.65486678 5.96902604 6.28318531]\n"
     ]
    }
   ],
   "source": [
    "# Q7: Python allows for the creation of equally spaced vectors which can be useful in many situations.\n",
    "EqualSpaced = np.arange(0, 2 * np.pi, np.pi / 10)\n",
    "EqualSpaced1 = np.linspace(0, 2 * np.pi, 21)\n",
    "print(\"EqualSpaced: \", EqualSpaced)\n",
    "print(\"EqualSpaced1: \", EqualSpaced1)"
   ]
  },
  {
   "cell_type": "code",
   "execution_count": 8,
   "id": "f9fb10a0-5953-4124-b808-5fad914d6e7d",
   "metadata": {},
   "outputs": [
    {
     "name": "stdout",
     "output_type": "stream",
     "text": [
      "maxcolA:  [3 4 5 5]\n",
      "mincolA:  [  1   2 -10  -6]\n"
     ]
    }
   ],
   "source": [
    "# Q8: Find the maximal and minimal elements in each of the columns of the matrix A.\n",
    "maxcolA = np.max(A, axis=0)\n",
    "mincolA = np.min(A, axis=0)\n",
    "print(\"maxcolA: \", maxcolA)\n",
    "print(\"mincolA: \", mincolA)"
   ]
  },
  {
   "cell_type": "code",
   "execution_count": 9,
   "id": "66a4bd7e-b7f0-45a1-99f6-9b5de3503e42",
   "metadata": {},
   "outputs": [],
   "source": [
    "# Q9: Find the maximal and minimal elements in each row of the matrix A.\n",
    "maxrowA = np.max(A, axis=1)\n",
    "minrowA = np.min(A, axis=1)"
   ]
  },
  {
   "cell_type": "code",
   "execution_count": 10,
   "id": "4f7d495a-db2b-4097-bc67-5e12dcfa84c3",
   "metadata": {},
   "outputs": [
    {
     "name": "stdout",
     "output_type": "stream",
     "text": [
      "maxrowA:  [4 5 5]\n",
      "minrowA:  [-10  -6  -2]\n",
      "maxA:  5\n",
      "minA:  -10\n"
     ]
    }
   ],
   "source": [
    "# Find the maximum and minimum elements in the entire matrix A\n",
    "maxA = np.max(A)\n",
    "minA = np.min(A)\n",
    "print(\"maxrowA: \", maxrowA)\n",
    "print(\"minrowA: \", minrowA)\n",
    "print(\"maxA: \", maxA)\n",
    "print(\"minA: \", minA)"
   ]
  },
  {
   "cell_type": "code",
   "execution_count": 11,
   "id": "05408e96-702f-4318-b819-a53d74b9e0ce",
   "metadata": {},
   "outputs": [
    {
     "name": "stdout",
     "output_type": "stream",
     "text": [
      "meancolA:  [ 2.33333333  3.         -2.33333333  1.        ]\n",
      "meanrowA:  [-0.75  1.5   2.25]\n",
      "sumcolA:  [ 7  9 -7  3]\n",
      "sumrowA:  [-3  6  9]\n",
      "meanA:  1.0\n",
      "sumA:  12\n"
     ]
    }
   ],
   "source": [
    "# Q10: Repeat the last two steps using the commands mean and sum instead of max and min.\n",
    "meancolA = np.mean(A, axis=0)\n",
    "meanrowA = np.mean(A, axis=1)\n",
    "sumcolA = np.sum(A, axis=0)\n",
    "sumrowA = np.sum(A, axis=1)\n",
    "\n",
    "# Calculate mean and sum of all elements in A\n",
    "meanA = np.mean(A)\n",
    "sumA = np.sum(A)\n",
    "print(\"meancolA: \", meancolA)\n",
    "print(\"meanrowA: \", meanrowA)\n",
    "print(\"sumcolA: \", sumcolA)\n",
    "print(\"sumrowA: \", sumrowA)\n",
    "print(\"meanA: \", meanA)\n",
    "print(\"sumA: \", sumA)"
   ]
  },
  {
   "cell_type": "code",
   "execution_count": 12,
   "id": "68684747-f423-47c7-8be5-6da751551046",
   "metadata": {},
   "outputs": [
    {
     "name": "stdout",
     "output_type": "stream",
     "text": [
      "F:  [[-1 -3  2]\n",
      " [ 3 -4  0]\n",
      " [ 1  2  2]\n",
      " [ 1  1  4]\n",
      " [ 2 -1  2]]\n",
      "G:  [[ 4 -2 -1]\n",
      " [-2 -2  1]\n",
      " [ 2 -2  3]\n",
      " [-4  2  3]\n",
      " [ 1 -3  2]]\n"
     ]
    }
   ],
   "source": [
    "# Q11: Create two matrices F and G with random integer entries from −4 to 4.\n",
    "F = np.random.randint(-4, 5, (5, 3))\n",
    "G = np.random.randint(-4, 5, (5, 3))\n",
    "print(\"F: \", F)\n",
    "print(\"G: \", G)"
   ]
  },
  {
   "cell_type": "code",
   "execution_count": 13,
   "id": "17cfee93-fab4-4b6e-b1b4-6d19bda5971f",
   "metadata": {},
   "outputs": [
    {
     "name": "stdout",
     "output_type": "stream",
     "text": [
      "ScMultF:  [[-0.4 -1.2  0.8]\n",
      " [ 1.2 -1.6  0. ]\n",
      " [ 0.4  0.8  0.8]\n",
      " [ 0.4  0.4  1.6]\n",
      " [ 0.8 -0.4  0.8]]\n",
      "SumFG:  [[ 3 -5  1]\n",
      " [ 1 -6  1]\n",
      " [ 3  0  5]\n",
      " [-3  3  7]\n",
      " [ 3 -4  4]]\n",
      "DiffFG:  [[-5 -1  3]\n",
      " [ 5 -2 -1]\n",
      " [-1  4 -1]\n",
      " [ 5 -1  1]\n",
      " [ 1  2  0]]\n",
      "ElProdFG:  [[-4  6 -2]\n",
      " [-6  8  0]\n",
      " [ 2 -4  6]\n",
      " [-4  2 12]\n",
      " [ 2  3  4]]\n"
     ]
    }
   ],
   "source": [
    "# Q12: Perform the operations 0.4*F, F+G, F-G, F.*G, storing the results in ScMultF, SumFG, DiffFG, and ElProdFG respectively.\n",
    "ScMultF = 0.4 * F\n",
    "SumFG = F + G\n",
    "DiffFG = F - G\n",
    "ElProdFG = F * G\n",
    "print(\"ScMultF: \", ScMultF)\n",
    "print(\"SumFG: \", SumFG)\n",
    "print(\"DiffFG: \", DiffFG)\n",
    "print(\"ElProdFG: \", ElProdFG)"
   ]
  },
  {
   "cell_type": "code",
   "execution_count": 14,
   "id": "55111166-7661-4d76-8d8e-ca56424a348c",
   "metadata": {},
   "outputs": [
    {
     "name": "stdout",
     "output_type": "stream",
     "text": [
      "sizeF:  (5, 3)\n",
      "sizeA:  (3, 4)\n"
     ]
    }
   ],
   "source": [
    "# Q13: Check the size of the matrix F and the size of A, storing the results in the variables sizeF and sizeA, respectively.\n",
    "sizeF = F.shape\n",
    "sizeA = A.shape\n",
    "print(\"sizeF: \", sizeF)\n",
    "print(\"sizeA: \", sizeA)"
   ]
  },
  {
   "cell_type": "code",
   "execution_count": 15,
   "id": "e09338c7-2c83-41a7-aff7-86b6523f02f7",
   "metadata": {},
   "outputs": [
    {
     "name": "stdout",
     "output_type": "stream",
     "text": [
      "H:  [[ -4  -8  -9  24]\n",
      " [ -9 -10 -50  36]\n",
      " [ 13  16  -4   2]\n",
      " [ 16  18 -13  18]\n",
      " [  5   6 -29  24]]\n"
     ]
    }
   ],
   "source": [
    "# Q14: Can we matrix-multiply F and A? Explain.\n",
    "if sizeF[1] == sizeA[0]:\n",
    "    H = F @ A\n",
    "    print(\"H: \", H)\n",
    "else:\n",
    "    print(\"Cannot multiply F and A due to incompatible dimensions.\")"
   ]
  },
  {
   "cell_type": "code",
   "execution_count": 16,
   "id": "9cc71a3c-9c62-4bfb-a4d3-651964516641",
   "metadata": {},
   "outputs": [
    {
     "name": "stdout",
     "output_type": "stream",
     "text": [
      "eye33:  [[1. 0. 0.]\n",
      " [0. 1. 0.]\n",
      " [0. 0. 1.]]\n"
     ]
    }
   ],
   "source": [
    "# Q15: Generate the identity matrix eye33 with 3 rows and 3 columns using the np.eye() function.\n",
    "eye33 = np.eye(3)\n",
    "print(\"eye33: \", eye33)"
   ]
  },
  {
   "cell_type": "code",
   "execution_count": 17,
   "id": "379199f0-1558-458e-8365-4b71ba467723",
   "metadata": {},
   "outputs": [
    {
     "name": "stdout",
     "output_type": "stream",
     "text": [
      "zeros53:  [[0. 0. 0.]\n",
      " [0. 0. 0.]\n",
      " [0. 0. 0.]\n",
      " [0. 0. 0.]\n",
      " [0. 0. 0.]]\n",
      "ones42:  [[1. 1.]\n",
      " [1. 1.]\n",
      " [1. 1.]\n",
      " [1. 1.]]\n"
     ]
    }
   ],
   "source": [
    "# Q16: Run the commands to generate matrices of zeros with size 5x3 and ones with size 4x2.\n",
    "zeros53 = np.zeros((5, 3))\n",
    "ones42 = np.ones((4, 2))\n",
    "print(\"zeros53: \", zeros53)\n",
    "print(\"ones42: \", ones42)"
   ]
  },
  {
   "cell_type": "code",
   "execution_count": 18,
   "id": "0e8c5486-d7ed-4da8-a69c-c9208931bc9f",
   "metadata": {},
   "outputs": [
    {
     "name": "stdout",
     "output_type": "stream",
     "text": [
      "S:  [[1 0 0]\n",
      " [0 2 0]\n",
      " [0 0 7]]\n"
     ]
    }
   ],
   "source": [
    "# Q17: Generate the diagonal 3x3 matrix S with the diagonal elements {1, 2, 7} using the np.diag() function.\n",
    "S = np.diag([1, 2, 7])\n",
    "print(\"S: \", S)"
   ]
  },
  {
   "cell_type": "code",
   "execution_count": 19,
   "id": "71976549-4111-4932-926d-1beb94dcb929",
   "metadata": {},
   "outputs": [
    {
     "name": "stdout",
     "output_type": "stream",
     "text": [
      "R:  [[0.82533273 0.83447603 0.17383619 0.96055078 0.04001079 0.1857575 ]\n",
      " [0.89227326 0.49393464 0.21153101 0.87491871 0.15035792 0.12126578]\n",
      " [0.72830601 0.96742163 0.82895086 0.4656662  0.99011151 0.47383155]\n",
      " [0.11023276 0.08289951 0.98131245 0.14597405 0.63223002 0.31845077]\n",
      " [0.01792146 0.97398179 0.89618967 0.16602586 0.71727053 0.70510433]\n",
      " [0.60514504 0.49251959 0.93947064 0.45362529 0.39608687 0.59904552]]\n",
      "diagR:  [0.82533273 0.49393464 0.82895086 0.14597405 0.71727053 0.59904552]\n"
     ]
    }
   ],
   "source": [
    "# Q18: Extract the diagonal elements from a random 6x6 matrix and save them in a separate vector.\n",
    "R = np.random.rand(6, 6)\n",
    "diagR = np.diag(R)\n",
    "print(\"R: \", R)\n",
    "print(\"diagR: \", diagR)"
   ]
  },
  {
   "cell_type": "code",
   "execution_count": 20,
   "id": "814a7dc5-0ba7-4f25-852a-dcd9d80b5a3a",
   "metadata": {},
   "outputs": [
    {
     "name": "stdout",
     "output_type": "stream",
     "text": [
      "diag121:  [[ 2. -1.  0.  0.  0.  0.  0.  0.  0.  0.]\n",
      " [-1.  2. -1.  0.  0.  0.  0.  0.  0.  0.]\n",
      " [ 0. -1.  2. -1.  0.  0.  0.  0.  0.  0.]\n",
      " [ 0.  0. -1.  2. -1.  0.  0.  0.  0.  0.]\n",
      " [ 0.  0.  0. -1.  2. -1.  0.  0.  0.  0.]\n",
      " [ 0.  0.  0.  0. -1.  2. -1.  0.  0.  0.]\n",
      " [ 0.  0.  0.  0.  0. -1.  2. -1.  0.  0.]\n",
      " [ 0.  0.  0.  0.  0.  0. -1.  2. -1.  0.]\n",
      " [ 0.  0.  0.  0.  0.  0.  0. -1.  2. -1.]\n",
      " [ 0.  0.  0.  0.  0.  0.  0.  0. -1.  2.]]\n"
     ]
    }
   ],
   "source": [
    "# Q19: Create a sparse diagonal matrix using diags and convert it to a dense matrix.\n",
    "from scipy.sparse import diags\n",
    "diag121 = diags([-np.ones(10), 2*np.ones(10), -np.ones(10)], [-1, 0, 1], shape=(10, 10)).todense()\n",
    "print(\"diag121: \", diag121)"
   ]
  }
 ],
 "metadata": {
  "kernelspec": {
   "display_name": "Python 3 (ipykernel)",
   "language": "python",
   "name": "python3"
  },
  "language_info": {
   "codemirror_mode": {
    "name": "ipython",
    "version": 3
   },
   "file_extension": ".py",
   "mimetype": "text/x-python",
   "name": "python",
   "nbconvert_exporter": "python",
   "pygments_lexer": "ipython3",
   "version": "3.12.5"
  }
 },
 "nbformat": 4,
 "nbformat_minor": 5
}
