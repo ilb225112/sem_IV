{
 "cells": [
  {
   "cell_type": "markdown",
   "id": "1a22c068-a0aa-4b15-83cb-3075ccae3cb6",
   "metadata": {},
   "source": [
    "## Project 5: Systems of linear equations and college football team ranking (with an example of the Big 12)"
   ]
  },
  {
   "cell_type": "code",
   "execution_count": 1,
   "id": "5cdba306-8b32-4a3b-8b8e-b46dcc521a95",
   "metadata": {},
   "outputs": [],
   "source": [
    "#Q1.Load both matrices into your Python script using the load command:\n",
    "\n",
    "import numpy as np\n",
    "from scipy.io import loadmat\n",
    "# Load the matrices from .mat files\n",
    "data_scores = loadmat(r\"C:\\admin\\2nd year\\sem4\\La\\projects\\p5\\Scores.mat\")\n",
    "data_differentials = loadmat(r\"C:\\admin\\2nd year\\sem4\\La\\projects\\p5\\Differentials.mat\")\n",
    "# Extract the relevant matrices\n",
    "Scores = data_scores['Scores']\n",
    "Differentials = data_differentials['Differentials']"
   ]
  },
  {
   "cell_type": "code",
   "execution_count": 2,
   "id": "cea1d2fc-7f1a-4e9f-8b9f-2578556ea115",
   "metadata": {},
   "outputs": [
    {
     "name": "stdout",
     "output_type": "stream",
     "text": [
      "ColleyMatrix:\n",
      " [[11. -1. -1. -1. -1. -1. -1. -1. -1. -1.]\n",
      " [-1. 11. -1. -1. -1. -1. -1. -1. -1. -1.]\n",
      " [-1. -1. 11. -1. -1. -1. -1. -1. -1. -1.]\n",
      " [-1. -1. -1. 11. -1. -1. -1. -1. -1. -1.]\n",
      " [-1. -1. -1. -1. 11. -1. -1. -1. -1. -1.]\n",
      " [-1. -1. -1. -1. -1. 11. -1. -1. -1. -1.]\n",
      " [-1. -1. -1. -1. -1. -1. 11. -1. -1. -1.]\n",
      " [-1. -1. -1. -1. -1. -1. -1. 11. -1. -1.]\n",
      " [-1. -1. -1. -1. -1. -1. -1. -1. 11. -1.]\n",
      " [-1. -1. -1. -1. -1. -1. -1. -1. -1. 11.]]\n",
      "\n",
      "RightSide:\n",
      " [-0.5 -1.5 -2.5  2.5  5.5  3.5  0.5 -0.5 -0.5  2.5]\n"
     ]
    }
   ],
   "source": [
    "#Q2. Create the matrix and the right-hand side of Colley’s system of linear equations\n",
    "\n",
    "# Colley's method \n",
    "# Define variables \n",
    "games = np.abs(Scores) \n",
    "total = np.sum(games, axis=1) \n",
    "# Construct Colley's matrix and the right-hand side vector \n",
    "ColleyMatrix = 2 * np.eye(10) + np.diag(total) - games \n",
    "RightSide = 1 + 0.5 * np.sum(Scores, axis=1)\n",
    "\n",
    "# Print to verify \n",
    "print(\"ColleyMatrix:\\n\", ColleyMatrix) \n",
    "print(\"\\nRightSide:\\n\", RightSide)"
   ]
  },
  {
   "cell_type": "code",
   "execution_count": 3,
   "id": "7b8c8a4f-ceb0-4218-a8fa-1022eb16aff4",
   "metadata": {},
   "outputs": [
    {
     "name": "stdout",
     "output_type": "stream",
     "text": [
      "RanksColley:\n",
      " [0.33333333 0.25       0.16666667 0.58333333 0.83333333 0.66666667\n",
      " 0.41666667 0.33333333 0.33333333 0.58333333]\n"
     ]
    }
   ],
   "source": [
    "#Q3. Solve the linear system using the backslash operator:\n",
    "\n",
    "RanksColley = np.linalg.solve(ColleyMatrix, RightSide)\n",
    "print(\"RanksColley:\\n\", RanksColley)"
   ]
  },
  {
   "cell_type": "code",
   "execution_count": 4,
   "id": "d51008d6-dfa1-400c-b6c5-c85456d2f351",
   "metadata": {},
   "outputs": [
    {
     "name": "stdout",
     "output_type": "stream",
     "text": [
      "\n",
      "Colley Rankings:\n",
      "   0.833 University of Oklahoma\n",
      "   0.667 Oklahoma State \n",
      "   0.583 Kansas State   \n",
      "   0.583 West Virginia  \n",
      "   0.417 Texas Christian\n",
      "   0.333 Baylor         \n",
      "   0.333 Texas Tech     \n",
      "   0.333 University of Texas Austin\n",
      "   0.250 Iowa State     \n",
      "   0.167 University of Kansas\n"
     ]
    }
   ],
   "source": [
    "#Q4. Display the results on the screen\n",
    "\n",
    "# Teams list\n",
    "Teams = [\n",
    "    'Baylor', 'Iowa State', 'University of Kansas', 'Kansas State',\n",
    "    'University of Oklahoma', 'Oklahoma State', 'Texas Christian',\n",
    "    'University of Texas Austin', 'Texas Tech', 'West Virginia'\n",
    "]\n",
    "\n",
    "# Sort the ranks in descending order and get the order of indices\n",
    "Order = np.argsort(RanksColley)[::-1]\n",
    "RanksDescend = RanksColley[Order]\n",
    "\n",
    "# Display the results\n",
    "print('\\nColley Rankings:')\n",
    "for j in range(10):\n",
    "    print(f'{RanksColley[Order[j]]:8.3f} {Teams[Order[j]]:15s}')"
   ]
  },
  {
   "cell_type": "code",
   "execution_count": 5,
   "id": "4d917274-0383-48d8-ad7a-3e1b204251fb",
   "metadata": {},
   "outputs": [
    {
     "name": "stdout",
     "output_type": "stream",
     "text": [
      "Matrix P:\n",
      " [[ 1. -1.  0.  0.  0.  0.  0.  0.  0.  0.]\n",
      " [ 1.  0. -1.  0.  0.  0.  0.  0.  0.  0.]\n",
      " [ 1.  0.  0. -1.  0.  0.  0.  0.  0.  0.]\n",
      " [ 1.  0.  0.  0. -1.  0.  0.  0.  0.  0.]\n",
      " [ 1.  0.  0.  0.  0. -1.  0.  0.  0.  0.]\n",
      " [ 1.  0.  0.  0.  0.  0. -1.  0.  0.  0.]\n",
      " [ 1.  0.  0.  0.  0.  0.  0. -1.  0.  0.]\n",
      " [ 1.  0.  0.  0.  0.  0.  0.  0. -1.  0.]\n",
      " [ 1.  0.  0.  0.  0.  0.  0.  0.  0. -1.]\n",
      " [ 0.  1. -1.  0.  0.  0.  0.  0.  0.  0.]\n",
      " [ 0.  1.  0. -1.  0.  0.  0.  0.  0.  0.]\n",
      " [ 0.  1.  0.  0. -1.  0.  0.  0.  0.  0.]\n",
      " [ 0.  1.  0.  0.  0. -1.  0.  0.  0.  0.]\n",
      " [ 0.  1.  0.  0.  0.  0. -1.  0.  0.  0.]\n",
      " [ 0.  1.  0.  0.  0.  0.  0. -1.  0.  0.]\n",
      " [ 0.  1.  0.  0.  0.  0.  0.  0. -1.  0.]\n",
      " [ 0.  1.  0.  0.  0.  0.  0.  0.  0. -1.]\n",
      " [ 0.  0.  1. -1.  0.  0.  0.  0.  0.  0.]\n",
      " [ 0.  0.  1.  0. -1.  0.  0.  0.  0.  0.]\n",
      " [ 0.  0.  1.  0.  0. -1.  0.  0.  0.  0.]\n",
      " [ 0.  0.  1.  0.  0.  0. -1.  0.  0.  0.]\n",
      " [ 0.  0.  1.  0.  0.  0.  0. -1.  0.  0.]\n",
      " [ 0.  0.  1.  0.  0.  0.  0.  0. -1.  0.]\n",
      " [ 0.  0.  1.  0.  0.  0.  0.  0.  0. -1.]\n",
      " [ 0.  0.  0.  1. -1.  0.  0.  0.  0.  0.]\n",
      " [ 0.  0.  0.  1.  0. -1.  0.  0.  0.  0.]\n",
      " [ 0.  0.  0.  1.  0.  0. -1.  0.  0.  0.]\n",
      " [ 0.  0.  0.  1.  0.  0.  0. -1.  0.  0.]\n",
      " [ 0.  0.  0.  1.  0.  0.  0.  0. -1.  0.]\n",
      " [ 0.  0.  0.  1.  0.  0.  0.  0.  0. -1.]\n",
      " [ 0.  0.  0.  0.  1. -1.  0.  0.  0.  0.]\n",
      " [ 0.  0.  0.  0.  1.  0. -1.  0.  0.  0.]\n",
      " [ 0.  0.  0.  0.  1.  0.  0. -1.  0.  0.]\n",
      " [ 0.  0.  0.  0.  1.  0.  0.  0. -1.  0.]\n",
      " [ 0.  0.  0.  0.  1.  0.  0.  0.  0. -1.]\n",
      " [ 0.  0.  0.  0.  0.  1. -1.  0.  0.  0.]\n",
      " [ 0.  0.  0.  0.  0.  1.  0. -1.  0.  0.]\n",
      " [ 0.  0.  0.  0.  0.  1.  0.  0. -1.  0.]\n",
      " [ 0.  0.  0.  0.  0.  1.  0.  0.  0. -1.]\n",
      " [ 0.  0.  0.  0.  0.  0.  1. -1.  0.  0.]\n",
      " [ 0.  0.  0.  0.  0.  0.  1.  0. -1.  0.]\n",
      " [ 0.  0.  0.  0.  0.  0.  1.  0.  0. -1.]\n",
      " [ 0.  0.  0.  0.  0.  0.  0.  1. -1.  0.]\n",
      " [ 0.  0.  0.  0.  0.  0.  0.  1.  0. -1.]\n",
      " [ 0.  0.  0.  0.  0.  0.  0.  0.  1. -1.]]\n",
      "Vector B:\n",
      " [  3  42 -21 -21  11 -40  -1 -19  -3   7  -5 -10  -7 -21 -21  56 -30 -15\n",
      " -53 -24  -1   3 -36 -27 -21  -7  24   3   6  -1  18   6   5   7  28  25\n",
      "  18   1  17  22  -3 -24   8  -4 -31]\n"
     ]
    }
   ],
   "source": [
    "#Q5. Construct the matrix P and right-hand side B for Massey’s method\n",
    "\n",
    "# Massey's method\n",
    "l = 0\n",
    "P = []\n",
    "B = []\n",
    "\n",
    "# Loop through the upper triangular part of the Differentials matrix\n",
    "for j in range(9):\n",
    "    for k in range(j + 1, 10):\n",
    "        if Differentials[j, k] != 0:\n",
    "            l += 1\n",
    "            row = np.zeros(10)\n",
    "            row[j] = 1\n",
    "            row[k] = -1\n",
    "            P.append(row)\n",
    "            B.append(Differentials[j, k])\n",
    "\n",
    "# Convert lists to numpy arrays\n",
    "P = np.array(P)\n",
    "B = np.array(B)\n",
    "\n",
    "# Print matrices\n",
    "print(\"Matrix P:\\n\", P)\n",
    "print(\"Vector B:\\n\", B)"
   ]
  },
  {
   "cell_type": "code",
   "execution_count": 6,
   "id": "d8b65cff-f857-44f5-8164-dc6572a42815",
   "metadata": {},
   "outputs": [
    {
     "name": "stdout",
     "output_type": "stream",
     "text": [
      "Matrix A:\n",
      " [[ 9. -1. -1. -1. -1. -1. -1. -1. -1. -1.]\n",
      " [-1.  9. -1. -1. -1. -1. -1. -1. -1. -1.]\n",
      " [-1. -1.  9. -1. -1. -1. -1. -1. -1. -1.]\n",
      " [-1. -1. -1.  9. -1. -1. -1. -1. -1. -1.]\n",
      " [-1. -1. -1. -1.  9. -1. -1. -1. -1. -1.]\n",
      " [-1. -1. -1. -1. -1.  9. -1. -1. -1. -1.]\n",
      " [-1. -1. -1. -1. -1. -1.  9. -1. -1. -1.]\n",
      " [-1. -1. -1. -1. -1. -1. -1.  9. -1. -1.]\n",
      " [-1. -1. -1. -1. -1. -1. -1. -1.  9. -1.]\n",
      " [-1. -1. -1. -1. -1. -1. -1. -1. -1.  9.]]\n",
      "Vector D:\n",
      " [ -49.  -34. -202.   45.  169.   70.    2.  -25.  -51.   75.]\n"
     ]
    }
   ],
   "source": [
    "#Q6. Create the normal system of linear equations\n",
    "\n",
    "# Create the normal system of linear equations\n",
    "A = np.dot(P.T, P)\n",
    "D = np.dot(P.T, B)\n",
    "\n",
    "# Print matrices\n",
    "print(\"Matrix A:\\n\", A)\n",
    "print(\"Vector D:\\n\", D)"
   ]
  },
  {
   "cell_type": "code",
   "execution_count": 7,
   "id": "ebfa70d6-ee7f-461e-a2c5-2982ce90e5fc",
   "metadata": {},
   "outputs": [
    {
     "name": "stdout",
     "output_type": "stream",
     "text": [
      "Updated Matrix A:\n",
      " [[ 9. -1. -1. -1. -1. -1. -1. -1. -1. -1.]\n",
      " [-1.  9. -1. -1. -1. -1. -1. -1. -1. -1.]\n",
      " [-1. -1.  9. -1. -1. -1. -1. -1. -1. -1.]\n",
      " [-1. -1. -1.  9. -1. -1. -1. -1. -1. -1.]\n",
      " [-1. -1. -1. -1.  9. -1. -1. -1. -1. -1.]\n",
      " [-1. -1. -1. -1. -1.  9. -1. -1. -1. -1.]\n",
      " [-1. -1. -1. -1. -1. -1.  9. -1. -1. -1.]\n",
      " [-1. -1. -1. -1. -1. -1. -1.  9. -1. -1.]\n",
      " [-1. -1. -1. -1. -1. -1. -1. -1.  9. -1.]\n",
      " [ 1.  1.  1.  1.  1.  1.  1.  1.  1.  1.]]\n",
      "Updated Vector D:\n",
      " [ -49.  -34. -202.   45.  169.   70.    2.  -25.  -51.    0.]\n"
     ]
    }
   ],
   "source": [
    "#Q7. Substitute the last row of the matrix as described above\n",
    "\n",
    "# Substitute the last row of the matrix and the last element of the vector\n",
    "A[9, :] = np.ones(10)\n",
    "D[9] = 0\n",
    "\n",
    "# Print the updated matrix and vector\n",
    "print(\"Updated Matrix A:\\n\", A)\n",
    "print(\"Updated Vector D:\\n\", D)"
   ]
  },
  {
   "cell_type": "code",
   "execution_count": 8,
   "id": "a1abd932-7c47-4be7-977a-5b1d7d27ae26",
   "metadata": {},
   "outputs": [
    {
     "name": "stdout",
     "output_type": "stream",
     "text": [
      "RanksMassey:\n",
      " [ -4.9  -3.4 -20.2   4.5  16.9   7.    0.2  -2.5  -5.1   7.5]\n"
     ]
    }
   ],
   "source": [
    "#Q8. Finally, solve the system\n",
    "\n",
    "# Solve the system\n",
    "RanksMassey = np.linalg.solve(A, D)\n",
    "\n",
    "# Print the results\n",
    "print(\"RanksMassey:\\n\", RanksMassey)"
   ]
  },
  {
   "cell_type": "code",
   "execution_count": 9,
   "id": "d7337f7e-8097-444c-962c-26558e5483da",
   "metadata": {},
   "outputs": [
    {
     "name": "stdout",
     "output_type": "stream",
     "text": [
      "\n",
      "Massey Rankings:\n",
      "  16.900 University of Oklahoma\n",
      "   7.500 West Virginia  \n",
      "   7.000 Oklahoma State \n",
      "   4.500 Kansas State   \n",
      "   0.200 Texas Christian\n",
      "  -2.500 University of Texas Austin\n",
      "  -3.400 Iowa State     \n",
      "  -4.900 Baylor         \n",
      "  -5.100 Texas Tech     \n",
      " -20.200 University of Kansas\n"
     ]
    }
   ],
   "source": [
    "#Q9. Display the results on the screen as before\n",
    "\n",
    "# Sort the ranks in descending order\n",
    "Order = np.argsort(RanksMassey)[::-1]\n",
    "RanksDescend = RanksMassey[Order]\n",
    "\n",
    "# Print the results\n",
    "print(\"\\nMassey Rankings:\")\n",
    "for j in range(10):\n",
    "    print(f'{RanksDescend[j]:8.3f} {Teams[Order[j]]:<15}')"
   ]
  },
  {
   "cell_type": "code",
   "execution_count": 10,
   "id": "3d042e60-0620-4e76-9d24-b4375306f4de",
   "metadata": {},
   "outputs": [
    {
     "name": "stdout",
     "output_type": "stream",
     "text": [
      "\n",
      "Updated Colley's Rankings After Game Result Switch:\n",
      "   0.708 University of Oklahoma\n",
      "   0.625 Oklahoma State\n",
      "   0.542 Kansas State\n",
      "   0.542 West Virginia\n",
      "   0.375 Texas Christian\n",
      "   0.292 Baylor\n",
      "   0.292 Texas Tech\n",
      "   0.292 University of Texas Austin\n",
      "   0.208 Iowa State\n",
      "   0.125 University of Kansas\n"
     ]
    }
   ],
   "source": [
    "#Q10. Switch the result of the game between the top two teams in Colley’s ranking\n",
    "\n",
    "# Identify the current top two teams according to Colley's rankings\n",
    "top_teams_colley = sorted(range(len(RanksColley)), key=lambda i: RanksColley[i], reverse=True)[:2]\n",
    "\n",
    "# Switch the result of the game\n",
    "Scores[top_teams_colley[0], top_teams_colley[1]] = -Scores[top_teams_colley[0], top_teams_colley[1]]\n",
    "\n",
    "# Recalculate Colley's rankings\n",
    "games = np.abs(Scores)\n",
    "total = np.sum(games, axis=1)\n",
    "ColleyMatrix = 2 * np.eye(10) + np.diag(total) - games\n",
    "RightSide = 1 + 0.5 * np.sum(Scores, axis=1)\n",
    "RanksColley_updated = np.linalg.solve(ColleyMatrix, RightSide)\n",
    "\n",
    "# Print updated rankings\n",
    "teams = [\n",
    "    'Baylor', 'Iowa State', 'University of Kansas', 'Kansas State', \n",
    "    'University of Oklahoma', 'Oklahoma State', 'Texas Christian', \n",
    "    'University of Texas Austin', 'Texas Tech', 'West Virginia'\n",
    "] \n",
    "Order_updated = np.argsort(RanksColley_updated)[::-1]\n",
    "print(\"\\nUpdated Colley's Rankings After Game Result Switch:\")\n",
    "for j in range(10):\n",
    "    print(f\"{RanksColley_updated[Order_updated[j]]:8.3f} {Teams[Order_updated[j]]}\")\n",
    "\n",
    "# Reset the game result for future calculations \n",
    "Scores[top_teams_colley[0], top_teams_colley[1]] = -Scores[top_teams_colley[0],top_teams_colley[1]] "
   ]
  },
  {
   "cell_type": "code",
   "execution_count": 11,
   "id": "2b804766-e30e-4e08-892c-8a1b3a22d557",
   "metadata": {},
   "outputs": [
    {
     "name": "stdout",
     "output_type": "stream",
     "text": [
      "\n",
      "Updated Massey's Rankings After Game Result Switch:\n",
      "  11.500 West Virginia\n",
      "  11.300 University of Oklahoma\n",
      "   7.000 Oklahoma State\n",
      "   4.500 Kansas State\n",
      "   0.200 Texas Christian\n",
      "  -2.500 University of Texas Austin\n",
      "  -3.400 Iowa State\n",
      "  -3.500 Texas Tech\n",
      "  -4.900 Baylor\n",
      " -20.200 University of Kansas\n"
     ]
    }
   ],
   "source": [
    "#Q11. Switch the result of the game between the top two teams in Massey’s ranking\n",
    "\n",
    "# Identify the current top two teams according to Massey's rankings\n",
    "top_teams_massey = sorted(range(len(RanksMassey)), key=lambda i: RanksMassey[i], reverse=True)[:2]\n",
    "\n",
    "# Adjust the differential matrix for the switched game result\n",
    "if Differentials[top_teams_massey[0], top_teams_massey[1]] != 0:\n",
    "    Differentials[top_teams_massey[0], top_teams_massey[1]] = -Differentials[top_teams_massey[0], top_teams_massey[1]]\n",
    "\n",
    "# Recalculate Massey's rankings\n",
    "P = np.zeros((45, 10)) \n",
    "B = np.zeros(45) \n",
    "l = -1\n",
    "\n",
    "for j in range(9):\n",
    "    for k in range(j + 1, 10):\n",
    "        if Differentials[j, k] != 0:\n",
    "            l += 1 \n",
    "            P[l, j] = 1 \n",
    "            P[l, k] = -1 \n",
    "            B[l] = Differentials[j, k]\n",
    "\n",
    "P[44, :] = np.ones(10) \n",
    "B[44] = 0 \n",
    "A = np.dot(P.T, P)\n",
    "D = np.dot(P.T, B)\n",
    "\n",
    "RanksMassey_updated = np.linalg.solve(A, D)\n",
    "\n",
    "# Sort the teams based on updated rankings\n",
    "Order_updated_massey = np.argsort(RanksMassey_updated)[::-1]\n",
    "\n",
    "# Print updated rankings\n",
    "print(\"\\nUpdated Massey's Rankings After Game Result Switch:\")\n",
    "for j in range(10):\n",
    "    print(f\"{RanksMassey_updated[Order_updated_massey[j]]:8.3f} {Teams[Order_updated_massey[j]]}\")\n",
    "\n",
    "# Reset the game result for future calculations\n",
    "if Differentials[top_teams_massey[0], top_teams_massey[1]] != 0: \n",
    "    Differentials[top_teams_massey[0], top_teams_massey[1]] = -Differentials[top_teams_massey[0], top_teams_massey[1]]"
   ]
  },
  {
   "cell_type": "code",
   "execution_count": null,
   "id": "4117edf9-8cae-4adc-af44-d04dd5b3bdf7",
   "metadata": {},
   "outputs": [],
   "source": []
  }
 ],
 "metadata": {
  "kernelspec": {
   "display_name": "Python 3 (ipykernel)",
   "language": "python",
   "name": "python3"
  },
  "language_info": {
   "codemirror_mode": {
    "name": "ipython",
    "version": 3
   },
   "file_extension": ".py",
   "mimetype": "text/x-python",
   "name": "python",
   "nbconvert_exporter": "python",
   "pygments_lexer": "ipython3",
   "version": "3.12.5"
  }
 },
 "nbformat": 4,
 "nbformat_minor": 5
}
